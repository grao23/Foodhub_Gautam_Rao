{
 "cells": [
  {
   "cell_type": "code",
   "execution_count": 1,
   "id": "301de077",
   "metadata": {},
   "outputs": [],
   "source": [
    "# Import libraries for data manipulation\n",
    "import numpy as np\n",
    "import pandas as pd\n",
    "\n",
    "# Import libraries for data visualization\n",
    "import matplotlib.pyplot as plt\n",
    "import seaborn as sns\n"
   ]
  },
  {
   "cell_type": "code",
   "execution_count": 4,
   "id": "080d6402",
   "metadata": {},
   "outputs": [
    {
     "data": {
      "text/html": [
       "<div>\n",
       "<style scoped>\n",
       "    .dataframe tbody tr th:only-of-type {\n",
       "        vertical-align: middle;\n",
       "    }\n",
       "\n",
       "    .dataframe tbody tr th {\n",
       "        vertical-align: top;\n",
       "    }\n",
       "\n",
       "    .dataframe thead th {\n",
       "        text-align: right;\n",
       "    }\n",
       "</style>\n",
       "<table border=\"1\" class=\"dataframe\">\n",
       "  <thead>\n",
       "    <tr style=\"text-align: right;\">\n",
       "      <th></th>\n",
       "      <th>order_id</th>\n",
       "      <th>customer_id</th>\n",
       "      <th>restaurant_name</th>\n",
       "      <th>cuisine_type</th>\n",
       "      <th>cost_of_the_order</th>\n",
       "      <th>day_of_the_week</th>\n",
       "      <th>rating</th>\n",
       "      <th>food_preparation_time</th>\n",
       "      <th>delivery_time</th>\n",
       "    </tr>\n",
       "  </thead>\n",
       "  <tbody>\n",
       "    <tr>\n",
       "      <th>0</th>\n",
       "      <td>1477147</td>\n",
       "      <td>337525</td>\n",
       "      <td>Hangawi</td>\n",
       "      <td>Korean</td>\n",
       "      <td>30.75</td>\n",
       "      <td>Weekend</td>\n",
       "      <td>Not given</td>\n",
       "      <td>25</td>\n",
       "      <td>20</td>\n",
       "    </tr>\n",
       "    <tr>\n",
       "      <th>1</th>\n",
       "      <td>1477685</td>\n",
       "      <td>358141</td>\n",
       "      <td>Blue Ribbon Sushi Izakaya</td>\n",
       "      <td>Japanese</td>\n",
       "      <td>12.08</td>\n",
       "      <td>Weekend</td>\n",
       "      <td>Not given</td>\n",
       "      <td>25</td>\n",
       "      <td>23</td>\n",
       "    </tr>\n",
       "    <tr>\n",
       "      <th>2</th>\n",
       "      <td>1477070</td>\n",
       "      <td>66393</td>\n",
       "      <td>Cafe Habana</td>\n",
       "      <td>Mexican</td>\n",
       "      <td>12.23</td>\n",
       "      <td>Weekday</td>\n",
       "      <td>5</td>\n",
       "      <td>23</td>\n",
       "      <td>28</td>\n",
       "    </tr>\n",
       "    <tr>\n",
       "      <th>3</th>\n",
       "      <td>1477334</td>\n",
       "      <td>106968</td>\n",
       "      <td>Blue Ribbon Fried Chicken</td>\n",
       "      <td>American</td>\n",
       "      <td>29.20</td>\n",
       "      <td>Weekend</td>\n",
       "      <td>3</td>\n",
       "      <td>25</td>\n",
       "      <td>15</td>\n",
       "    </tr>\n",
       "    <tr>\n",
       "      <th>4</th>\n",
       "      <td>1478249</td>\n",
       "      <td>76942</td>\n",
       "      <td>Dirty Bird to Go</td>\n",
       "      <td>American</td>\n",
       "      <td>11.59</td>\n",
       "      <td>Weekday</td>\n",
       "      <td>4</td>\n",
       "      <td>25</td>\n",
       "      <td>24</td>\n",
       "    </tr>\n",
       "  </tbody>\n",
       "</table>\n",
       "</div>"
      ],
      "text/plain": [
       "   order_id  customer_id            restaurant_name cuisine_type  \\\n",
       "0   1477147       337525                    Hangawi       Korean   \n",
       "1   1477685       358141  Blue Ribbon Sushi Izakaya     Japanese   \n",
       "2   1477070        66393                Cafe Habana      Mexican   \n",
       "3   1477334       106968  Blue Ribbon Fried Chicken     American   \n",
       "4   1478249        76942           Dirty Bird to Go     American   \n",
       "\n",
       "   cost_of_the_order day_of_the_week     rating  food_preparation_time  \\\n",
       "0              30.75         Weekend  Not given                     25   \n",
       "1              12.08         Weekend  Not given                     25   \n",
       "2              12.23         Weekday          5                     23   \n",
       "3              29.20         Weekend          3                     25   \n",
       "4              11.59         Weekday          4                     25   \n",
       "\n",
       "   delivery_time  \n",
       "0             20  \n",
       "1             23  \n",
       "2             28  \n",
       "3             15  \n",
       "4             24  "
      ]
     },
     "execution_count": 4,
     "metadata": {},
     "output_type": "execute_result"
    }
   ],
   "source": [
    "# Read the data\n",
    "df = pd.read_csv('foodhub_order.csv')\n",
    "# Returns the first 5 rows\n",
    "df.head() "
   ]
  },
  {
   "cell_type": "code",
   "execution_count": 10,
   "id": "a7b5b4e8",
   "metadata": {},
   "outputs": [
    {
     "name": "stdout",
     "output_type": "stream",
     "text": [
      "Rows:  1898\n",
      "Columns:  9\n"
     ]
    }
   ],
   "source": [
    "#Q1\n",
    "\n",
    "rows = df.count()[0]\n",
    "print(\"Rows: \", rows)\n",
    "\n",
    "columns = len(df.columns)\n",
    "print(\"Columns: \", columns)\n",
    "\n",
    "\n"
   ]
  },
  {
   "cell_type": "code",
   "execution_count": 11,
   "id": "8ab7d063",
   "metadata": {},
   "outputs": [
    {
     "name": "stdout",
     "output_type": "stream",
     "text": [
      "<class 'pandas.core.frame.DataFrame'>\n",
      "RangeIndex: 1898 entries, 0 to 1897\n",
      "Data columns (total 9 columns):\n",
      " #   Column                 Non-Null Count  Dtype  \n",
      "---  ------                 --------------  -----  \n",
      " 0   order_id               1898 non-null   int64  \n",
      " 1   customer_id            1898 non-null   int64  \n",
      " 2   restaurant_name        1898 non-null   object \n",
      " 3   cuisine_type           1898 non-null   object \n",
      " 4   cost_of_the_order      1898 non-null   float64\n",
      " 5   day_of_the_week        1898 non-null   object \n",
      " 6   rating                 1898 non-null   object \n",
      " 7   food_preparation_time  1898 non-null   int64  \n",
      " 8   delivery_time          1898 non-null   int64  \n",
      "dtypes: float64(1), int64(4), object(4)\n",
      "memory usage: 133.6+ KB\n"
     ]
    }
   ],
   "source": [
    "#Q2\n",
    "\n",
    "df.info()"
   ]
  },
  {
   "cell_type": "code",
   "execution_count": 103,
   "id": "80ed858c",
   "metadata": {},
   "outputs": [
    {
     "data": {
      "text/html": [
       "<div>\n",
       "<style scoped>\n",
       "    .dataframe tbody tr th:only-of-type {\n",
       "        vertical-align: middle;\n",
       "    }\n",
       "\n",
       "    .dataframe tbody tr th {\n",
       "        vertical-align: top;\n",
       "    }\n",
       "\n",
       "    .dataframe thead th {\n",
       "        text-align: right;\n",
       "    }\n",
       "</style>\n",
       "<table border=\"1\" class=\"dataframe\">\n",
       "  <thead>\n",
       "    <tr style=\"text-align: right;\">\n",
       "      <th></th>\n",
       "      <th>order_id</th>\n",
       "      <th>customer_id</th>\n",
       "      <th>restaurant_name</th>\n",
       "      <th>cuisine_type</th>\n",
       "      <th>cost_of_the_order</th>\n",
       "      <th>day_of_the_week</th>\n",
       "      <th>rating</th>\n",
       "      <th>food_preparation_time</th>\n",
       "      <th>delivery_time</th>\n",
       "      <th>Revenue</th>\n",
       "      <th>total_time</th>\n",
       "    </tr>\n",
       "  </thead>\n",
       "  <tbody>\n",
       "    <tr>\n",
       "      <th>2</th>\n",
       "      <td>1477070</td>\n",
       "      <td>66393</td>\n",
       "      <td>Cafe Habana</td>\n",
       "      <td>Mexican</td>\n",
       "      <td>12.23</td>\n",
       "      <td>Weekday</td>\n",
       "      <td>5.0</td>\n",
       "      <td>23</td>\n",
       "      <td>28</td>\n",
       "      <td>1.8345</td>\n",
       "      <td>51</td>\n",
       "    </tr>\n",
       "    <tr>\n",
       "      <th>3</th>\n",
       "      <td>1477334</td>\n",
       "      <td>106968</td>\n",
       "      <td>Blue Ribbon Fried Chicken</td>\n",
       "      <td>American</td>\n",
       "      <td>29.20</td>\n",
       "      <td>Weekend</td>\n",
       "      <td>3.0</td>\n",
       "      <td>25</td>\n",
       "      <td>15</td>\n",
       "      <td>7.3000</td>\n",
       "      <td>40</td>\n",
       "    </tr>\n",
       "    <tr>\n",
       "      <th>4</th>\n",
       "      <td>1478249</td>\n",
       "      <td>76942</td>\n",
       "      <td>Dirty Bird to Go</td>\n",
       "      <td>American</td>\n",
       "      <td>11.59</td>\n",
       "      <td>Weekday</td>\n",
       "      <td>4.0</td>\n",
       "      <td>25</td>\n",
       "      <td>24</td>\n",
       "      <td>1.7385</td>\n",
       "      <td>49</td>\n",
       "    </tr>\n",
       "    <tr>\n",
       "      <th>5</th>\n",
       "      <td>1477224</td>\n",
       "      <td>147468</td>\n",
       "      <td>Tamarind TriBeCa</td>\n",
       "      <td>Indian</td>\n",
       "      <td>25.22</td>\n",
       "      <td>Weekday</td>\n",
       "      <td>3.0</td>\n",
       "      <td>20</td>\n",
       "      <td>24</td>\n",
       "      <td>6.3050</td>\n",
       "      <td>44</td>\n",
       "    </tr>\n",
       "    <tr>\n",
       "      <th>7</th>\n",
       "      <td>1477859</td>\n",
       "      <td>89574</td>\n",
       "      <td>Barbounia</td>\n",
       "      <td>Mediterranean</td>\n",
       "      <td>5.97</td>\n",
       "      <td>Weekday</td>\n",
       "      <td>3.0</td>\n",
       "      <td>33</td>\n",
       "      <td>30</td>\n",
       "      <td>0.8955</td>\n",
       "      <td>63</td>\n",
       "    </tr>\n",
       "    <tr>\n",
       "      <th>...</th>\n",
       "      <td>...</td>\n",
       "      <td>...</td>\n",
       "      <td>...</td>\n",
       "      <td>...</td>\n",
       "      <td>...</td>\n",
       "      <td>...</td>\n",
       "      <td>...</td>\n",
       "      <td>...</td>\n",
       "      <td>...</td>\n",
       "      <td>...</td>\n",
       "      <td>...</td>\n",
       "    </tr>\n",
       "    <tr>\n",
       "      <th>1889</th>\n",
       "      <td>1478190</td>\n",
       "      <td>94152</td>\n",
       "      <td>RedFarm Broadway</td>\n",
       "      <td>Chinese</td>\n",
       "      <td>8.68</td>\n",
       "      <td>Weekday</td>\n",
       "      <td>3.0</td>\n",
       "      <td>33</td>\n",
       "      <td>30</td>\n",
       "      <td>1.3020</td>\n",
       "      <td>63</td>\n",
       "    </tr>\n",
       "    <tr>\n",
       "      <th>1890</th>\n",
       "      <td>1477316</td>\n",
       "      <td>164776</td>\n",
       "      <td>TAO</td>\n",
       "      <td>Japanese</td>\n",
       "      <td>15.67</td>\n",
       "      <td>Weekend</td>\n",
       "      <td>5.0</td>\n",
       "      <td>20</td>\n",
       "      <td>22</td>\n",
       "      <td>2.3505</td>\n",
       "      <td>42</td>\n",
       "    </tr>\n",
       "    <tr>\n",
       "      <th>1893</th>\n",
       "      <td>1476701</td>\n",
       "      <td>292602</td>\n",
       "      <td>Chipotle Mexican Grill $1.99 Delivery</td>\n",
       "      <td>Mexican</td>\n",
       "      <td>22.31</td>\n",
       "      <td>Weekend</td>\n",
       "      <td>5.0</td>\n",
       "      <td>31</td>\n",
       "      <td>17</td>\n",
       "      <td>5.5775</td>\n",
       "      <td>48</td>\n",
       "    </tr>\n",
       "    <tr>\n",
       "      <th>1894</th>\n",
       "      <td>1477421</td>\n",
       "      <td>397537</td>\n",
       "      <td>The Smile</td>\n",
       "      <td>American</td>\n",
       "      <td>12.18</td>\n",
       "      <td>Weekend</td>\n",
       "      <td>5.0</td>\n",
       "      <td>31</td>\n",
       "      <td>19</td>\n",
       "      <td>1.8270</td>\n",
       "      <td>50</td>\n",
       "    </tr>\n",
       "    <tr>\n",
       "      <th>1896</th>\n",
       "      <td>1477513</td>\n",
       "      <td>64151</td>\n",
       "      <td>Jack's Wife Freda</td>\n",
       "      <td>Mediterranean</td>\n",
       "      <td>12.18</td>\n",
       "      <td>Weekday</td>\n",
       "      <td>5.0</td>\n",
       "      <td>23</td>\n",
       "      <td>31</td>\n",
       "      <td>1.8270</td>\n",
       "      <td>54</td>\n",
       "    </tr>\n",
       "  </tbody>\n",
       "</table>\n",
       "<p>1162 rows × 11 columns</p>\n",
       "</div>"
      ],
      "text/plain": [
       "      order_id  customer_id                        restaurant_name  \\\n",
       "2      1477070        66393                            Cafe Habana   \n",
       "3      1477334       106968              Blue Ribbon Fried Chicken   \n",
       "4      1478249        76942                       Dirty Bird to Go   \n",
       "5      1477224       147468                       Tamarind TriBeCa   \n",
       "7      1477859        89574                              Barbounia   \n",
       "...        ...          ...                                    ...   \n",
       "1889   1478190        94152                       RedFarm Broadway   \n",
       "1890   1477316       164776                                    TAO   \n",
       "1893   1476701       292602  Chipotle Mexican Grill $1.99 Delivery   \n",
       "1894   1477421       397537                              The Smile   \n",
       "1896   1477513        64151                      Jack's Wife Freda   \n",
       "\n",
       "       cuisine_type  cost_of_the_order day_of_the_week  rating  \\\n",
       "2           Mexican              12.23         Weekday     5.0   \n",
       "3          American              29.20         Weekend     3.0   \n",
       "4          American              11.59         Weekday     4.0   \n",
       "5            Indian              25.22         Weekday     3.0   \n",
       "7     Mediterranean               5.97         Weekday     3.0   \n",
       "...             ...                ...             ...     ...   \n",
       "1889        Chinese               8.68         Weekday     3.0   \n",
       "1890       Japanese              15.67         Weekend     5.0   \n",
       "1893        Mexican              22.31         Weekend     5.0   \n",
       "1894       American              12.18         Weekend     5.0   \n",
       "1896  Mediterranean              12.18         Weekday     5.0   \n",
       "\n",
       "      food_preparation_time  delivery_time  Revenue  total_time  \n",
       "2                        23             28   1.8345          51  \n",
       "3                        25             15   7.3000          40  \n",
       "4                        25             24   1.7385          49  \n",
       "5                        20             24   6.3050          44  \n",
       "7                        33             30   0.8955          63  \n",
       "...                     ...            ...      ...         ...  \n",
       "1889                     33             30   1.3020          63  \n",
       "1890                     20             22   2.3505          42  \n",
       "1893                     31             17   5.5775          48  \n",
       "1894                     31             19   1.8270          50  \n",
       "1896                     23             31   1.8270          54  \n",
       "\n",
       "[1162 rows x 11 columns]"
      ]
     },
     "execution_count": 103,
     "metadata": {},
     "output_type": "execute_result"
    }
   ],
   "source": [
    "#Q3\n",
    "\n",
    "df.dropna()\n",
    "\n"
   ]
  },
  {
   "cell_type": "code",
   "execution_count": 18,
   "id": "866eafed",
   "metadata": {},
   "outputs": [
    {
     "data": {
      "text/html": [
       "<div>\n",
       "<style scoped>\n",
       "    .dataframe tbody tr th:only-of-type {\n",
       "        vertical-align: middle;\n",
       "    }\n",
       "\n",
       "    .dataframe tbody tr th {\n",
       "        vertical-align: top;\n",
       "    }\n",
       "\n",
       "    .dataframe thead th {\n",
       "        text-align: right;\n",
       "    }\n",
       "</style>\n",
       "<table border=\"1\" class=\"dataframe\">\n",
       "  <thead>\n",
       "    <tr style=\"text-align: right;\">\n",
       "      <th></th>\n",
       "      <th>order_id</th>\n",
       "      <th>customer_id</th>\n",
       "      <th>cost_of_the_order</th>\n",
       "      <th>food_preparation_time</th>\n",
       "      <th>delivery_time</th>\n",
       "    </tr>\n",
       "  </thead>\n",
       "  <tbody>\n",
       "    <tr>\n",
       "      <th>count</th>\n",
       "      <td>1.898000e+03</td>\n",
       "      <td>1898.000000</td>\n",
       "      <td>1898.000000</td>\n",
       "      <td>1898.000000</td>\n",
       "      <td>1898.000000</td>\n",
       "    </tr>\n",
       "    <tr>\n",
       "      <th>mean</th>\n",
       "      <td>1.477496e+06</td>\n",
       "      <td>171168.478398</td>\n",
       "      <td>16.498851</td>\n",
       "      <td>27.371970</td>\n",
       "      <td>24.161749</td>\n",
       "    </tr>\n",
       "    <tr>\n",
       "      <th>std</th>\n",
       "      <td>5.480497e+02</td>\n",
       "      <td>113698.139743</td>\n",
       "      <td>7.483812</td>\n",
       "      <td>4.632481</td>\n",
       "      <td>4.972637</td>\n",
       "    </tr>\n",
       "    <tr>\n",
       "      <th>min</th>\n",
       "      <td>1.476547e+06</td>\n",
       "      <td>1311.000000</td>\n",
       "      <td>4.470000</td>\n",
       "      <td>20.000000</td>\n",
       "      <td>15.000000</td>\n",
       "    </tr>\n",
       "    <tr>\n",
       "      <th>25%</th>\n",
       "      <td>1.477021e+06</td>\n",
       "      <td>77787.750000</td>\n",
       "      <td>12.080000</td>\n",
       "      <td>23.000000</td>\n",
       "      <td>20.000000</td>\n",
       "    </tr>\n",
       "    <tr>\n",
       "      <th>50%</th>\n",
       "      <td>1.477496e+06</td>\n",
       "      <td>128600.000000</td>\n",
       "      <td>14.140000</td>\n",
       "      <td>27.000000</td>\n",
       "      <td>25.000000</td>\n",
       "    </tr>\n",
       "    <tr>\n",
       "      <th>75%</th>\n",
       "      <td>1.477970e+06</td>\n",
       "      <td>270525.000000</td>\n",
       "      <td>22.297500</td>\n",
       "      <td>31.000000</td>\n",
       "      <td>28.000000</td>\n",
       "    </tr>\n",
       "    <tr>\n",
       "      <th>max</th>\n",
       "      <td>1.478444e+06</td>\n",
       "      <td>405334.000000</td>\n",
       "      <td>35.410000</td>\n",
       "      <td>35.000000</td>\n",
       "      <td>33.000000</td>\n",
       "    </tr>\n",
       "  </tbody>\n",
       "</table>\n",
       "</div>"
      ],
      "text/plain": [
       "           order_id    customer_id  cost_of_the_order  food_preparation_time  \\\n",
       "count  1.898000e+03    1898.000000        1898.000000            1898.000000   \n",
       "mean   1.477496e+06  171168.478398          16.498851              27.371970   \n",
       "std    5.480497e+02  113698.139743           7.483812               4.632481   \n",
       "min    1.476547e+06    1311.000000           4.470000              20.000000   \n",
       "25%    1.477021e+06   77787.750000          12.080000              23.000000   \n",
       "50%    1.477496e+06  128600.000000          14.140000              27.000000   \n",
       "75%    1.477970e+06  270525.000000          22.297500              31.000000   \n",
       "max    1.478444e+06  405334.000000          35.410000              35.000000   \n",
       "\n",
       "       delivery_time  \n",
       "count    1898.000000  \n",
       "mean       24.161749  \n",
       "std         4.972637  \n",
       "min        15.000000  \n",
       "25%        20.000000  \n",
       "50%        25.000000  \n",
       "75%        28.000000  \n",
       "max        33.000000  "
      ]
     },
     "execution_count": 18,
     "metadata": {},
     "output_type": "execute_result"
    }
   ],
   "source": [
    "#Q4: Describe\n",
    "\n",
    "df.describe()"
   ]
  },
  {
   "cell_type": "code",
   "execution_count": 27,
   "id": "f5ea0223",
   "metadata": {},
   "outputs": [
    {
     "data": {
      "text/plain": [
       "Not given    736\n",
       "5            588\n",
       "4            386\n",
       "3            188\n",
       "Name: rating, dtype: int64"
      ]
     },
     "execution_count": 27,
     "metadata": {},
     "output_type": "execute_result"
    }
   ],
   "source": [
    "#Q5\n",
    "\n",
    "df['rating'].value_counts()"
   ]
  },
  {
   "cell_type": "code",
   "execution_count": 29,
   "id": "aedbb8d7",
   "metadata": {},
   "outputs": [
    {
     "data": {
      "text/plain": [
       "1898"
      ]
     },
     "execution_count": 29,
     "metadata": {},
     "output_type": "execute_result"
    }
   ],
   "source": [
    "#Q6\n",
    "df['order_id'].nunique()"
   ]
  },
  {
   "cell_type": "code",
   "execution_count": 30,
   "id": "23cb6f2e",
   "metadata": {},
   "outputs": [
    {
     "data": {
      "text/plain": [
       "178"
      ]
     },
     "execution_count": 30,
     "metadata": {},
     "output_type": "execute_result"
    }
   ],
   "source": [
    "df['restaurant_name'].nunique() "
   ]
  },
  {
   "cell_type": "code",
   "execution_count": 31,
   "id": "94840d6a",
   "metadata": {},
   "outputs": [
    {
     "data": {
      "text/plain": [
       "14"
      ]
     },
     "execution_count": 31,
     "metadata": {},
     "output_type": "execute_result"
    }
   ],
   "source": [
    "df['cuisine_type'].nunique() "
   ]
  },
  {
   "cell_type": "code",
   "execution_count": 90,
   "id": "88d343e7",
   "metadata": {},
   "outputs": [
    {
     "data": {
      "text/plain": [
       "Weekend    1351\n",
       "Weekday     547\n",
       "Name: day_of_the_week, dtype: int64"
      ]
     },
     "execution_count": 90,
     "metadata": {},
     "output_type": "execute_result"
    }
   ],
   "source": [
    "df['day_of_the_week'].value_counts().head(3)"
   ]
  },
  {
   "cell_type": "code",
   "execution_count": 72,
   "id": "bd67b638",
   "metadata": {},
   "outputs": [
    {
     "data": {
      "text/plain": [
       "<AxesSubplot:xlabel='day_of_the_week', ylabel='count'>"
      ]
     },
     "execution_count": 72,
     "metadata": {},
     "output_type": "execute_result"
    },
    {
     "data": {
      "image/png": "[encoded data removed]",
      "text/plain": [
       "<Figure size 1080x360 with 1 Axes>"
      ]
     },
     "metadata": {
      "needs_background": "light"
     },
     "output_type": "display_data"
    }
   ],
   "source": [
    "plt.figure(figsize = (15,5))\n",
    "sns.countplot(data = df, x = 'day_of_the_week')"
   ]
  },
  {
   "cell_type": "code",
   "execution_count": 73,
   "id": "84db247f",
   "metadata": {},
   "outputs": [
    {
     "data": {
      "image/png": "[encoded data removed]",
      "text/plain": [
       "<Figure size 432x288 with 1 Axes>"
      ]
     },
     "metadata": {
      "needs_background": "light"
     },
     "output_type": "display_data"
    },
    {
     "data": {
      "image/png": "[encoded data removed]",
      "text/plain": [
       "<Figure size 432x288 with 1 Axes>"
      ]
     },
     "metadata": {
      "needs_background": "light"
     },
     "output_type": "display_data"
    }
   ],
   "source": [
    "sns.histplot(data=df,x='delivery_time') ## Complete the code to plot the histogram for the delivery time\n",
    "plt.show()\n",
    "sns.boxplot(data=df,x='delivery_time') ## Complete the code to plot the boxplot for the delivery time\n",
    "plt.show()"
   ]
  },
  {
   "cell_type": "code",
   "execution_count": 32,
   "id": "b8d88ec6",
   "metadata": {},
   "outputs": [
    {
     "data": {
      "image/png": "[encoded data removed]",
      "text/plain": [
       "<Figure size 432x288 with 1 Axes>"
      ]
     },
     "metadata": {
      "needs_background": "light"
     },
     "output_type": "display_data"
    },
    {
     "data": {
      "image/png": "[encoded data removed]",
      "text/plain": [
       "<Figure size 432x288 with 1 Axes>"
      ]
     },
     "metadata": {
      "needs_background": "light"
     },
     "output_type": "display_data"
    }
   ],
   "source": [
    "sns.histplot(data=df,x='cost_of_the_order') ## Histogram for the cost of order\n",
    "plt.show()\n",
    "sns.boxplot(data=df,x='cost_of_the_order') ## Boxplot for the cost of order\n",
    "plt.show() "
   ]
  },
  {
   "cell_type": "code",
   "execution_count": 36,
   "id": "ffd7bae9",
   "metadata": {},
   "outputs": [
    {
     "data": {
      "text/plain": [
       "Shake Shack                  219\n",
       "The Meatball Shop            132\n",
       "Blue Ribbon Sushi            119\n",
       "Blue Ribbon Fried Chicken     96\n",
       "Parm                          68\n",
       "Name: restaurant_name, dtype: int64"
      ]
     },
     "execution_count": 36,
     "metadata": {},
     "output_type": "execute_result"
    }
   ],
   "source": [
    "#Q7\n",
    "\n",
    "df['restaurant_name'].value_counts().head(5)\n"
   ]
  },
  {
   "cell_type": "code",
   "execution_count": 75,
   "id": "a599c4b9",
   "metadata": {},
   "outputs": [
    {
     "data": {
      "text/plain": [
       "American          415\n",
       "Japanese          335\n",
       "Italian           207\n",
       "Chinese           163\n",
       "Mexican            53\n",
       "Indian             49\n",
       "Middle Eastern     32\n",
       "Mediterranean      32\n",
       "Thai               15\n",
       "French             13\n",
       "Southern           11\n",
       "Spanish            11\n",
       "Korean             11\n",
       "Vietnamese          4\n",
       "Name: cuisine_type, dtype: int64"
      ]
     },
     "execution_count": 75,
     "metadata": {},
     "output_type": "execute_result"
    }
   ],
   "source": [
    "#Q8\n",
    "\n",
    "df_weekend = df[df['day_of_the_week'] == 'Weekend']\n",
    "df_weekend['cuisine_type'].value_counts() "
   ]
  },
  {
   "cell_type": "code",
   "execution_count": 38,
   "id": "44fc5677",
   "metadata": {},
   "outputs": [
    {
     "name": "stdout",
     "output_type": "stream",
     "text": [
      "The number of total orders that cost above 20 dollars is: 555\n",
      "Percentage of orders above 20 dollars: 29.24 %\n"
     ]
    }
   ],
   "source": [
    "#Q9\n",
    "\n",
    "# Get orders that cost above 20 dollars\n",
    "df_greater_than_20 = df[df['cost_of_the_order']>20] ## Write the appropriate column name to get the orders having cost above $20\n",
    "\n",
    "# Calculate the number of total orders where the cost is above 20 dollars\n",
    "print('The number of total orders that cost above 20 dollars is:', df_greater_than_20.shape[0])\n",
    "\n",
    "# Calculate percentage of such orders in the dataset\n",
    "percentage = (df_greater_than_20.shape[0] / df.shape[0]) * 100\n",
    "\n",
    "print(\"Percentage of orders above 20 dollars:\", round(percentage, 2), '%')"
   ]
  },
  {
   "cell_type": "code",
   "execution_count": 88,
   "id": "8b814529",
   "metadata": {},
   "outputs": [
    {
     "name": "stdout",
     "output_type": "stream",
     "text": [
      "The mean delivery time for dataset is 24.16 minutes\n"
     ]
    }
   ],
   "source": [
    "#Q10\n",
    "\n",
    "# Get the mean delivery time\n",
    "mean_del_time = df['delivery_time'].mean() \n",
    "\n",
    "\n",
    "print('The mean delivery time for dataset is', round(mean_del_time, 2), 'minutes')"
   ]
  },
  {
   "cell_type": "code",
   "execution_count": 43,
   "id": "30be202d",
   "metadata": {},
   "outputs": [
    {
     "data": {
      "text/plain": [
       "52832    13\n",
       "47440    10\n",
       "83287     9\n",
       "Name: customer_id, dtype: int64"
      ]
     },
     "execution_count": 43,
     "metadata": {},
     "output_type": "execute_result"
    }
   ],
   "source": [
    "#Q11\n",
    "\n",
    "#Get the counts of  each customer_id\n",
    "\n",
    "df['customer_id'].value_counts().head(3)"
   ]
  },
  {
   "cell_type": "code",
   "execution_count": 44,
   "id": "de41b804",
   "metadata": {},
   "outputs": [
    {
     "data": {
      "image/png": "[encoded data removed]",
      "text/plain": [
       "<Figure size 1080x504 with 1 Axes>"
      ]
     },
     "metadata": {
      "needs_background": "light"
     },
     "output_type": "display_data"
    }
   ],
   "source": [
    "#Q12\n",
    "\n",
    "# Relationship between cost of the order and cuisine type\n",
    "plt.figure(figsize=(15,7))\n",
    "sns.boxplot(x = \"cuisine_type\", y = \"cost_of_the_order\", data = df, palette = 'PuBu')\n",
    "plt.xticks(rotation = 60)\n",
    "plt.show()"
   ]
  },
  {
   "cell_type": "code",
   "execution_count": 109,
   "id": "29f85d28",
   "metadata": {},
   "outputs": [
    {
     "data": {
      "image/png": "[encoded data removed]",
      "text/plain": [
       "<Figure size 1080x576 with 1 Axes>"
      ]
     },
     "metadata": {
      "needs_background": "light"
     },
     "output_type": "display_data"
    }
   ],
   "source": [
    "# Relationship between cuisine_type and delivery_time\n",
    "plt.figure(figsize=(15,8))\n",
    "sns.boxplot(x = \"rating\", y = \"cuisine_type\", data = df, palette = 'PuBu')  \n",
    "plt.xticks(rotation = 60)\n",
    "plt.show()"
   ]
  },
  {
   "cell_type": "code",
   "execution_count": 107,
   "id": "f82c7728",
   "metadata": {},
   "outputs": [
    {
     "data": {
      "image/png": "[encoded data removed]",
      "text/plain": [
       "<Figure size 1080x504 with 1 Axes>"
      ]
     },
     "metadata": {
      "needs_background": "light"
     },
     "output_type": "display_data"
    }
   ],
   "source": [
    "# Relationship between food preparation time and rating\n",
    "plt.figure(figsize=(15,7))\n",
    "sns.boxplot(x = \"day_of_the_week\", y = \"cost_of_the_order\", data = df, palette = 'PuBu')  ## Complete the code to visualize the relationship between food preparation time and cuisine type using boxplot\n",
    "plt.xticks(rotation = 60)\n",
    "plt.show()"
   ]
  },
  {
   "cell_type": "code",
   "execution_count": 106,
   "id": "74c234e7",
   "metadata": {},
   "outputs": [
    {
     "data": {
      "image/png": "[encoded data removed]",
      "text/plain": [
       "<Figure size 1080x504 with 1 Axes>"
      ]
     },
     "metadata": {
      "needs_background": "light"
     },
     "output_type": "display_data"
    }
   ],
   "source": [
    "# Relationship between rating and cost of the order\n",
    "plt.figure(figsize=(15,7))\n",
    "sns.boxplot(x = \"rating\", y = \"cost_of_the_order\", data = df, palette = 'PuBu')  ## Complete the code to visualize the relationship between food preparation time and cuisine type using boxplot\n",
    "plt.xticks(rotation = 60)\n",
    "plt.show()"
   ]
  },
  {
   "cell_type": "code",
   "execution_count": 64,
   "id": "3cd2aa8b",
   "metadata": {
    "scrolled": true
   },
   "outputs": [
    {
     "data": {
      "image/png": "[encoded data removed]",
      "text/plain": [
       "<Figure size 1080x504 with 1 Axes>"
      ]
     },
     "metadata": {
      "needs_background": "light"
     },
     "output_type": "display_data"
    }
   ],
   "source": [
    "# Relationship between rating and food_preparation_time\n",
    "plt.figure(figsize=(15,7))\n",
    "sns.boxplot(x = \"rating\", y = \"food_preparation_time\", data = df, palette = 'PuBu')  ## Complete the code to visualize the relationship between food preparation time and cuisine type using boxplot\n",
    "plt.xticks(rotation = 60)\n",
    "plt.show()"
   ]
  },
  {
   "cell_type": "code",
   "execution_count": 78,
   "id": "49d21bd8",
   "metadata": {},
   "outputs": [
    {
     "data": {
      "image/png": "[encoded data removed]",
      "text/plain": [
       "<Figure size 1080x576 with 1 Axes>"
      ]
     },
     "metadata": {
      "needs_background": "light"
     },
     "output_type": "display_data"
    }
   ],
   "source": []
  },
  {
   "cell_type": "code",
   "execution_count": 46,
   "id": "e1c0260b",
   "metadata": {},
   "outputs": [
    {
     "data": {
      "text/plain": [
       "restaurant_name\n",
       "Shake Shack                      3579.53\n",
       "The Meatball Shop                2145.21\n",
       "Blue Ribbon Sushi                1903.95\n",
       "Blue Ribbon Fried Chicken        1662.29\n",
       "Parm                             1112.76\n",
       "RedFarm Broadway                  965.13\n",
       "RedFarm Hudson                    921.21\n",
       "TAO                               834.50\n",
       "Han Dynasty                       755.29\n",
       "Blue Ribbon Sushi Bar & Grill     666.62\n",
       "Rubirosa                          660.45\n",
       "Sushi of Gari 46                  640.87\n",
       "Nobu Next Door                    623.67\n",
       "Five Guys Burgers and Fries       506.47\n",
       "Name: cost_of_the_order, dtype: float64"
      ]
     },
     "execution_count": 46,
     "metadata": {},
     "output_type": "execute_result"
    }
   ],
   "source": [
    "df.groupby(['restaurant_name'])['cost_of_the_order'].sum().sort_values(ascending = False).head(14)"
   ]
  },
  {
   "cell_type": "code",
   "execution_count": 51,
   "id": "08ea3587",
   "metadata": {},
   "outputs": [
    {
     "name": "stdout",
     "output_type": "stream",
     "text": [
      "Restaurants fulfilling the criteria for the promotional offer:\n",
      "             restaurant_name    rating\n",
      "0          The Meatball Shop  4.511905\n",
      "1  Blue Ribbon Fried Chicken  4.328125\n",
      "2                Shake Shack  4.278195\n",
      "3          Blue Ribbon Sushi  4.219178\n"
     ]
    }
   ],
   "source": [
    "# Q13 \n",
    "\n",
    "#Filter restaurants\n",
    "df_rated = df[df['rating'] != 'Not given'].copy()\n",
    "\n",
    "# converting  from object to integer\n",
    "df_rated['rating'] = df_rated['rating'].astype(int)\n",
    "\n",
    "df_rating_count = df_rated.groupby('restaurant_name')['rating'].count().sort_values(ascending=False).reset_index()\n",
    "\n",
    "# Get the restaurant names that have rating count more than 50\n",
    "rest_names = df_rating_count[df_rating_count['rating'] > 50]['restaurant_name']\n",
    "\n",
    "# restuarunts with 50 or more ratings\n",
    "df_mean_4 = df_rated[df_rated['restaurant_name'].isin(rest_names)].copy()\n",
    "\n",
    "# mean rating of the group of restaurants\n",
    "mean_ratings = df_mean_4.groupby('restaurant_name')['rating'].mean().sort_values(ascending=False).reset_index().dropna()\n",
    "\n",
    "# Print the restaurants fulfilling the criteria\n",
    "print(\"Restaurants fulfilling the criteria for the promotional offer:\")\n",
    "print(mean_ratings[mean_ratings['rating'] > 4])\n"
   ]
  },
  {
   "cell_type": "code",
   "execution_count": 54,
   "id": "16e30715",
   "metadata": {},
   "outputs": [
    {
     "name": "stdout",
     "output_type": "stream",
     "text": [
      "The net revenue is around 6166.3 dollars\n"
     ]
    }
   ],
   "source": [
    "#Q14\n",
    "\n",
    "# determine the revenue\n",
    "def compute_rev(x):\n",
    "    if x > 20:\n",
    "        return x * 0.25\n",
    "    elif x > 5:\n",
    "        return x * 0.15\n",
    "    else:\n",
    "        return 0\n",
    "\n",
    "# revenue for each order \n",
    "df['Revenue'] = df['cost_of_the_order'].apply(compute_rev)  \n",
    "\n",
    "# total revenue\n",
    "total_rev = df['Revenue'].sum()\n",
    "\n",
    "# net revenue print\n",
    "print('The net revenue is around', round(total_rev, 2), 'dollars')"
   ]
  },
  {
   "cell_type": "code",
   "execution_count": 113,
   "id": "aa951056",
   "metadata": {},
   "outputs": [
    {
     "name": "stdout",
     "output_type": "stream",
     "text": [
      "The percentage of orders that take more than 60 minutes for delivery: 10.54 %\n"
     ]
    }
   ],
   "source": [
    "# Q15 \n",
    "\n",
    "#Calculate total delivery time\n",
    "df['total_time'] = df['food_preparation_time'] + df['delivery_time']\n",
    "\n",
    "# percentage of orders with more than 60 minutes of  delivery time\n",
    "percentage = (df[df['total_time'] > 60].shape[0] / df.shape[0]) * 100\n",
    "\n",
    "# Print the percentage\n",
    "print('The percentage of orders that take more than 60 minutes for delivery:', round(percentage, 2), '%')"
   ]
  },
  {
   "cell_type": "code",
   "execution_count": 56,
   "id": "45375d3b",
   "metadata": {},
   "outputs": [
    {
     "name": "stdout",
     "output_type": "stream",
     "text": [
      "The mean delivery time on weekdays is around 28.34 minutes\n",
      "The mean delivery time on weekends is around 22.47 minutes\n"
     ]
    }
   ],
   "source": [
    "#Q16\n",
    "\n",
    "# mean delivery time on weekdays\n",
    "weekday_mean = df[df['day_of_the_week'] == 'Weekday']['delivery_time'].mean()\n",
    "print('The mean delivery time on weekdays is around', round(weekday_mean, 2), 'minutes')\n",
    "\n",
    "# mean delivery time on weekends\n",
    "weekend_mean = df[df['day_of_the_week'] == 'Weekend']['delivery_time'].mean()\n",
    "print('The mean delivery time on weekends is around', round(weekend_mean, 2), 'minutes')"
   ]
  },
  {
   "cell_type": "code",
   "execution_count": null,
   "id": "b02df70e",
   "metadata": {},
   "outputs": [],
   "source": [
    "#conclusions/ observations \n",
    "\n",
    "#1. There is generally more activity on the weekend, with 1351 orders being on the weekend and accordinly the delivery times on the weekends were on average nearly 6 minutes less. \n",
    "\n",
    "#2. As cost of the order increase the average rating of the customer is also increased, another thing I noticed is that the price of the food on the weekends is higher as compared to the weekdays. \n",
    "\n",
    "#3. Higher total revenue made by a restaurant the more probability that their rating is high, shake shack, The meatball Shop and Blue Ribbon Sushi and Blue Ribbon Sushi are in the top 5 of both revenue and rating. \n",
    "\n",
    "\n",
    "# Recommendations \n",
    "\n",
    "#1. With the higher delivery time we see a lower rating so by having a quicker delivery time this would increase customer service ratings and the overall net revenue of a establishment. \n",
    "# - this can be done by 1) having more drivers ready, 2) reducing food preperation time\n",
    "\n",
    "#2 - In vietnameese restauraunts the cost of food and the delivery time is high so to combat that they can could send out surveys to see what items are the most popular and keep those and find ways to exclude items and have more food premade for faster delivery and preparation time. \n",
    "\n",
    "#3 - Give incentives to give a rating on the food to then use that rating to create a market strategy which can increase your net revenue by catering to the customers. "
   ]
  }
 ],
 "metadata": {
  "kernelspec": {
   "display_name": "Python 3",
   "language": "python",
   "name": "python3"
  },
  "language_info": {
   "codemirror_mode": {
    "name": "ipython",
    "version": 3
   },
   "file_extension": ".py",
   "mimetype": "text/x-python",
   "name": "python",
   "nbconvert_exporter": "python",
   "pygments_lexer": "ipython3",
   "version": "3.8.8"
  }
 },
 "nbformat": 4,
 "nbformat_minor": 5
}
